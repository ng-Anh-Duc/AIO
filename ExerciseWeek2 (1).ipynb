{
  "nbformat": 4,
  "nbformat_minor": 0,
  "metadata": {
    "colab": {
      "provenance": []
    },
    "kernelspec": {
      "name": "python3",
      "display_name": "Python 3"
    },
    "language_info": {
      "name": "python"
    }
  },
  "cells": [
    {
      "cell_type": "code",
      "execution_count": 8,
      "metadata": {
        "colab": {
          "base_uri": "https://localhost:8080/"
        },
        "id": "UxlExvSGvZNR",
        "outputId": "6bd40bfd-b48c-4cbe-cf07-8f09301c2bdc"
      },
      "outputs": [
        {
          "output_type": "stream",
          "name": "stdout",
          "text": [
            "[5, 5, 5, 5, 10, 12, 33, 33]\n"
          ]
        }
      ],
      "source": [
        "# 1. Cho một list các số nguyên num_list và một sliding window có kích thước size k di\n",
        "# chuyển từ trái sang phải. Mỗi lần dịch chuyển 1 vị trí sang phải có thể nhìn thấy\n",
        "# đươc k số trong num_list và tìm số lớn nhất trong k số này sau mỗi lần trượt k phải\n",
        "# lớn hơn hoặc bằng 1\n",
        "# Cau 1\n",
        "num_list = [3 , 4 , 5 , 1 , -44 , 5 ,10 , 12 ,33 , 1]\n",
        "\n",
        "sliding_window = []\n",
        "for i in range(len(num_list)-2):\n",
        "  sliding_window.append(max(num_list[i:i+3]))\n",
        "\n",
        "print(sliding_window)"
      ]
    },
    {
      "cell_type": "code",
      "source": [
        "# 2. Thực hiện theo các yêu cầu sau.\n",
        "# Viết function trả về một dictionary đếm số lượng chữ xuất hiện trong một từ, với key là chữ cái\n",
        "# và value là số lần xuất hiện\n",
        "# • Input: một từ\n",
        "# • Output: dictionary đếm số lần các chữ xuất hiện\n",
        "# • Note: Giả sử các từ nhập vào đều có các chữ cái thuộc [a-z] hoặc [A-Z]\n",
        "# Cau 2\n",
        "\n",
        "def count_chars(string):\n",
        "  chars = {}\n",
        "  for char in string:\n",
        "    if char in chars:\n",
        "      chars[char] += 1\n",
        "    else:\n",
        "      chars[char] = 1\n",
        "  return chars\n",
        "\n",
        "assert count_chars(\"Baby\") == {'B': 1 , 'a': 1 , 'b': 1 , 'y': 1}\n",
        "print(count_chars(\"smiles\"))"
      ],
      "metadata": {
        "colab": {
          "base_uri": "https://localhost:8080/"
        },
        "id": "jOGP-Ku_wxx_",
        "outputId": "be3baba2-761e-4b37-a002-a89721c9ed89"
      },
      "execution_count": 10,
      "outputs": [
        {
          "output_type": "stream",
          "name": "stdout",
          "text": [
            "{'s': 2, 'm': 1, 'i': 1, 'l': 1, 'e': 1}\n"
          ]
        }
      ]
    },
    {
      "cell_type": "code",
      "source": [
        "# 3. Thực hiện theo các yêu cầu sau.\n",
        "# Viết function đọc các câu trong một file txt, đếm số lượng các từ xuất hiện và trả về một dictionary\n",
        "# với key là từ và value là số lần từ đó xuất hiện.\n",
        "# • Input: Đường dẫn đến file txt\n",
        "# • Output: dictionary đếm số lần các từ xuất hiện\n",
        "# • Note:\n",
        "# – Giả sử các từ trong file txt đều có các chữ cái thuộc [a-z] hoặc [A-Z]\n",
        "# – Không cần các thao tác xử lý string phức tạp nhưng cần xử lý các từ đều là viết\n",
        "# thường\n",
        "# – Các bạn dùng lệnh này để download\n",
        "# !gdown https://drive.google.com/uc?id=1IBScGdW2xlNsc9v5zSAya548kNgiOrko\n",
        "# Cau 3\n",
        "\n",
        "!gdown https://drive.google.com/uc?id=1IBScGdW2xlNsc9v5zSAya548kNgiOrko"
      ],
      "metadata": {
        "colab": {
          "base_uri": "https://localhost:8080/"
        },
        "id": "_n1W3QfwxmnK",
        "outputId": "1a1246d2-4b7d-4b72-9e16-dc376fb90580"
      },
      "execution_count": 11,
      "outputs": [
        {
          "output_type": "stream",
          "name": "stdout",
          "text": [
            "Downloading...\n",
            "From: https://drive.google.com/uc?id=1IBScGdW2xlNsc9v5zSAya548kNgiOrko\n",
            "To: /content/P1_data.txt\n",
            "\r  0% 0.00/747 [00:00<?, ?B/s]\r100% 747/747 [00:00<00:00, 2.74MB/s]\n"
          ]
        }
      ]
    },
    {
      "cell_type": "code",
      "source": [
        "def count_words(file):\n",
        "  words = {}\n",
        "  with open(file) as f:\n",
        "    for line in f:\n",
        "      for word in line.split():\n",
        "        word = word.lower()\n",
        "        if word in words:\n",
        "          words[word] += 1\n",
        "        else:\n",
        "          words[word] = 1\n",
        "  return words"
      ],
      "metadata": {
        "id": "IJut-rKex6cz"
      },
      "execution_count": 5,
      "outputs": []
    },
    {
      "cell_type": "code",
      "source": [
        "file_path = '/content/P1_data.txt'\n",
        "result = count_words(file_path)\n",
        "assert result['who'] == 3\n",
        "print(result['man'])"
      ],
      "metadata": {
        "colab": {
          "base_uri": "https://localhost:8080/"
        },
        "id": "98DvoJ13ygVR",
        "outputId": "2f417a89-9ae7-445e-adb2-93cb888a3d49"
      },
      "execution_count": 12,
      "outputs": [
        {
          "output_type": "stream",
          "name": "stdout",
          "text": [
            "6\n"
          ]
        }
      ]
    },
    {
      "cell_type": "code",
      "source": [
        "# Cau 4\n",
        "\n",
        "def levenshtein_distance(source, target):\n",
        "    m = len(source)\n",
        "    n = len(target)\n",
        "\n",
        "    D = [[0] * (n + 1) for _ in range(m + 1)]\n",
        "\n",
        "    for i in range(m + 1):\n",
        "        D[i][0] = i\n",
        "    for j in range(n + 1):\n",
        "        D[0][j] = j\n",
        "\n",
        "    for i in range(1, m + 1):\n",
        "        for j in range(1, n + 1):\n",
        "            if source[i - 1] == target[j - 1]:\n",
        "                cost = 0\n",
        "            else:\n",
        "                cost = 1\n",
        "            D[i][j] = min(\n",
        "                D[i - 1][j] + 1,\n",
        "                D[i][j - 1] + 1,\n",
        "                D[i - 1][j - 1] + cost\n",
        "            )\n",
        "\n",
        "    return D[m][n]\n",
        "\n",
        "assert levenshtein_distance(\"hi\", \"hello\") == 4.0\n",
        "print(levenshtein_distance(\"hola\", \"hello\"))"
      ],
      "metadata": {
        "colab": {
          "base_uri": "https://localhost:8080/"
        },
        "id": "KsL9gMQEzWXr",
        "outputId": "226a0026-21d9-4899-db1a-cab29d35aa89"
      },
      "execution_count": 13,
      "outputs": [
        {
          "output_type": "stream",
          "name": "stdout",
          "text": [
            "3\n"
          ]
        }
      ]
    },
    {
      "cell_type": "code",
      "source": [
        "def check_the_number(N):\n",
        "    list_of_numbers = []\n",
        "    result = \"\"\n",
        "    for i in range(1, 5):\n",
        "        list_of_numbers.append(i)\n",
        "\n",
        "    if N in list_of_numbers:\n",
        "        result = \"True\"\n",
        "    else:\n",
        "        result = \"False\"\n",
        "\n",
        "    return result\n",
        "\n",
        "N = 7\n",
        "assert check_the_number(N) == \"False\"\n",
        "\n",
        "N = 2\n",
        "results = check_the_number(N)\n",
        "print(results)"
      ],
      "metadata": {
        "colab": {
          "base_uri": "https://localhost:8080/"
        },
        "id": "dEfwjv7rAf6v",
        "outputId": "07ea08a0-a628-406b-bbb4-9538d1e8b000"
      },
      "execution_count": 14,
      "outputs": [
        {
          "output_type": "stream",
          "name": "stdout",
          "text": [
            "True\n"
          ]
        }
      ]
    },
    {
      "cell_type": "code",
      "source": [
        "#Cau 6\n",
        "def my_function(data, max, min):\n",
        "    result = []\n",
        "    for i in data:\n",
        "        if i < min:\n",
        "            result.append(min)\n",
        "        elif i > max:\n",
        "            result.append(max)\n",
        "        else:\n",
        "            result.append(i)\n",
        "    return result\n",
        "\n",
        "my_list = [5, 2, 5, 0, 1]\n",
        "max = 1\n",
        "min = 0\n",
        "assert my_function(max=max, min=min, data=my_list) == [1, 1, 1, 0, 1]\n",
        "\n",
        "my_list = [10, 2, 5, 0, 1]\n",
        "max = 2\n",
        "min = 1\n",
        "print(my_function(max=max, min=min, data=my_list))"
      ],
      "metadata": {
        "colab": {
          "base_uri": "https://localhost:8080/"
        },
        "id": "JeJB4jhWBlqm",
        "outputId": "da49c8ee-64bb-4767-ecfe-aee4c101b4c4"
      },
      "execution_count": 15,
      "outputs": [
        {
          "output_type": "stream",
          "name": "stdout",
          "text": [
            "[2, 2, 2, 1, 1]\n"
          ]
        }
      ]
    },
    {
      "cell_type": "code",
      "source": [
        "# Cau 7\n",
        "def my_function(x, y):\n",
        "    x.extend(y)\n",
        "    return x\n",
        "\n",
        "list_num1 = ['a', 2, 5]\n",
        "list_num2 = [1, 1]\n",
        "list_num3 = [0, 0]\n",
        "\n",
        "assert my_function(list_num1, my_function(list_num2, list_num3)) == ['a', 2, 5, 1, 1, 0, 0]\n",
        "\n",
        "list_num1 = [1, 2]\n",
        "list_num2 = [3, 4]\n",
        "list_num3 = [0, 0]\n",
        "\n",
        "print(my_function(list_num1, my_function(list_num2, list_num3)))"
      ],
      "metadata": {
        "colab": {
          "base_uri": "https://localhost:8080/"
        },
        "id": "T5qmvp9NB1fo",
        "outputId": "cf8081c2-c33f-4c83-a503-ee6beed53da3"
      },
      "execution_count": 16,
      "outputs": [
        {
          "output_type": "stream",
          "name": "stdout",
          "text": [
            "[1, 2, 3, 4, 0, 0]\n"
          ]
        }
      ]
    },
    {
      "cell_type": "code",
      "source": [
        "# Cau 8\n",
        "def my_function(n):\n",
        "  minx = float('inf')\n",
        "  for i in range(len(n)):\n",
        "    if n[i] < minx:\n",
        "      minx = n[i]\n",
        "  return minx\n",
        "\n",
        "my_list = [1 , 22 , 93 , -100]\n",
        "assert my_function(my_list) == -100\n",
        "\n",
        "my_list = [1, 2, 3, -1]\n",
        "print(my_function(my_list))"
      ],
      "metadata": {
        "colab": {
          "base_uri": "https://localhost:8080/"
        },
        "id": "5O26ztHwDb_F",
        "outputId": "9103146f-d745-40f7-9f45-2dd7da901908"
      },
      "execution_count": 22,
      "outputs": [
        {
          "output_type": "stream",
          "name": "stdout",
          "text": [
            "-1\n"
          ]
        }
      ]
    },
    {
      "cell_type": "code",
      "source": [
        "# Cau 9\n",
        "def my_function(n):\n",
        "  maxx = float('-inf')\n",
        "  for i in range(len(n)):\n",
        "    if n[i] > maxx:\n",
        "      maxx = n[i]\n",
        "  return maxx\n",
        "\n",
        "my_list = [1001, 9, 100, 0]\n",
        "assert my_function(my_list) == 1001\n",
        "\n",
        "my_list = [1, 9, 9, 0]\n",
        "print(my_function(my_list))"
      ],
      "metadata": {
        "colab": {
          "base_uri": "https://localhost:8080/"
        },
        "id": "cbzyVmSDE_em",
        "outputId": "a41a1053-7f3c-4ac2-f8cc-6faf56cb97f6"
      },
      "execution_count": 23,
      "outputs": [
        {
          "output_type": "stream",
          "name": "stdout",
          "text": [
            "9\n"
          ]
        }
      ]
    },
    {
      "cell_type": "code",
      "source": [
        "# Cau 10\n",
        "\n",
        "def my_function(integers, number=1):\n",
        "    return any(i == number for i in integers)\n",
        "\n",
        "my_list = [1 , 3 , 9 , 4]\n",
        "assert my_function(my_list, -1) == False\n",
        "my_list = [1 , 2 , 3 , 4]\n",
        "print(my_function(my_list, 2))"
      ],
      "metadata": {
        "colab": {
          "base_uri": "https://localhost:8080/"
        },
        "id": "zHxsuGLuFhF8",
        "outputId": "5e3ab748-22e8-4fbc-e90d-b25ba5671410"
      },
      "execution_count": 26,
      "outputs": [
        {
          "output_type": "stream",
          "name": "stdout",
          "text": [
            "True\n"
          ]
        }
      ]
    },
    {
      "cell_type": "code",
      "source": [
        "# Cau 11\n",
        "\n",
        "def my_function(list_nums=[0, 1, 2]):\n",
        "    var = 0\n",
        "    for i in list_nums:\n",
        "        var += i\n",
        "    return var / len(list_nums)\n",
        "\n",
        "assert my_function([4, 6, 8]) == 6\n",
        "print(my_function())"
      ],
      "metadata": {
        "colab": {
          "base_uri": "https://localhost:8080/"
        },
        "id": "CItvD-PiF4-y",
        "outputId": "812fb263-eea8-4956-bff4-feb240cc3f9c"
      },
      "execution_count": 27,
      "outputs": [
        {
          "output_type": "stream",
          "name": "stdout",
          "text": [
            "1.0\n"
          ]
        }
      ]
    },
    {
      "cell_type": "code",
      "source": [
        "# Cau 12\n",
        "\n",
        "def my_function(data):\n",
        "    var = []\n",
        "    for i in data:\n",
        "        if i % 3 == 0:\n",
        "            var.append(i)\n",
        "    return var\n",
        "assert my_function([3, 9, 4, 5]) == [3, 9]\n",
        "print(my_function([1, 2, 3, 5, 6]))"
      ],
      "metadata": {
        "colab": {
          "base_uri": "https://localhost:8080/"
        },
        "id": "xqd8cvF0GIiV",
        "outputId": "116e2e74-22da-4ae6-93c5-adb7e6bc3b12"
      },
      "execution_count": 28,
      "outputs": [
        {
          "output_type": "stream",
          "name": "stdout",
          "text": [
            "[3, 6]\n"
          ]
        }
      ]
    },
    {
      "cell_type": "code",
      "source": [
        "# Cau 13\n",
        "def my_function(y):\n",
        "    var = 1\n",
        "    while y > 1:\n",
        "        var *= y\n",
        "        y -= 1\n",
        "    return var\n",
        "\n",
        "assert my_function(8) == 40320\n",
        "print(my_function(4))"
      ],
      "metadata": {
        "colab": {
          "base_uri": "https://localhost:8080/"
        },
        "id": "iIPlaAUmC9i_",
        "outputId": "ef33b561-1627-4097-e071-a4530f64c8fd"
      },
      "execution_count": 17,
      "outputs": [
        {
          "output_type": "stream",
          "name": "stdout",
          "text": [
            "24\n"
          ]
        }
      ]
    },
    {
      "cell_type": "code",
      "source": [
        "# Cau 14\n",
        "def my_function(x):\n",
        "    return x[::-1]\n",
        "\n",
        "x = 'I can do it'\n",
        "assert my_function(x) == \"ti od nac I\"\n",
        "\n",
        "x = 'apricot'\n",
        "print(my_function(x))"
      ],
      "metadata": {
        "colab": {
          "base_uri": "https://localhost:8080/"
        },
        "id": "kfLQoD4UDCYb",
        "outputId": "bb5a9d9a-3ab6-448c-85ad-cb0ea9bc7129"
      },
      "execution_count": 18,
      "outputs": [
        {
          "output_type": "stream",
          "name": "stdout",
          "text": [
            "tocirpa\n"
          ]
        }
      ]
    },
    {
      "cell_type": "code",
      "source": [
        "# Cau 15\n",
        "def function_helper(x):\n",
        "    return 'T' if x > 0 else 'N'\n",
        "\n",
        "def my_function(data):\n",
        "    res = [function_helper(x) for x in data]\n",
        "    return res\n",
        "\n",
        "data = [10, 0, -10, -1]\n",
        "assert my_function(data) == ['T', 'N', 'N', 'N']\n",
        "\n",
        "data = [2, 3, 5, -1]\n",
        "print(my_function(data))"
      ],
      "metadata": {
        "colab": {
          "base_uri": "https://localhost:8080/"
        },
        "id": "ItsDc7k8DQ8U",
        "outputId": "ed723f2c-48f7-421a-e4e2-f0e7f313a130"
      },
      "execution_count": 19,
      "outputs": [
        {
          "output_type": "stream",
          "name": "stdout",
          "text": [
            "['T', 'T', 'T', 'N']\n"
          ]
        }
      ]
    },
    {
      "cell_type": "code",
      "source": [
        "# Cau 16\n",
        "def function_helper(x, data):\n",
        "    for i in data:\n",
        "        if x == i:\n",
        "            return 0\n",
        "    return 1\n",
        "\n",
        "def my_function(data):\n",
        "    res = []\n",
        "    for i in data:\n",
        "        if function_helper(i, res):\n",
        "            res.append(i)\n",
        "    return res\n",
        "\n",
        "lst = [10, 10, 9, 7, 7]\n",
        "assert my_function(lst) == [10, 9, 7]\n",
        "\n",
        "lst = [9, 9, 8, 1, 1]\n",
        "print(my_function(lst))"
      ],
      "metadata": {
        "colab": {
          "base_uri": "https://localhost:8080/"
        },
        "id": "ADC1A4AjG2fp",
        "outputId": "64017336-db4d-4b4f-dd48-a0f611241b6d"
      },
      "execution_count": 29,
      "outputs": [
        {
          "output_type": "stream",
          "name": "stdout",
          "text": [
            "[9, 8, 1]\n"
          ]
        }
      ]
    },
    {
      "cell_type": "code",
      "source": [],
      "metadata": {
        "id": "C5Je6EWSG5IE"
      },
      "execution_count": null,
      "outputs": []
    }
  ]
}