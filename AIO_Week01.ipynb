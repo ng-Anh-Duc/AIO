{
  "nbformat": 4,
  "nbformat_minor": 0,
  "metadata": {
    "colab": {
      "provenance": []
    },
    "kernelspec": {
      "name": "python3",
      "display_name": "Python 3"
    },
    "language_info": {
      "name": "python"
    }
  },
  "cells": [
    {
      "cell_type": "code",
      "execution_count": 4,
      "metadata": {
        "id": "6vcMTGMNJsDp"
      },
      "outputs": [],
      "source": [
        "# exercise 1\n",
        "def get_metrics(tp, fp, fn):\n",
        "  if not isinstance(tp, int) and not isinstance(fp, int) and not isinstance(fn, int):\n",
        "    raise ValueError(\"True positive, false positive, false negative must be integers.\")\n",
        "  elif tp < 0 or fp < 0 or fn < 0:\n",
        "    raise ValueError(\"True positive, false positive, false negative must be greater than or equal to zero.\")\n",
        "  else:\n",
        "    precision = tp / (tp + fp)\n",
        "    recall = tp / (tp + fn)\n",
        "    f1_score = 2 * (precision * recall) / (precision + recall)\n",
        "    return precision, recall, f1_score"
      ]
    },
    {
      "cell_type": "code",
      "source": [
        "#exercise 2\n",
        "import math\n",
        "\n",
        "def get_sigmoid(x):\n",
        "  return 1 / (1 + math.exp(-x))\n",
        "\n",
        "def get_relu(x):\n",
        "  return 0 if x <= 0 else x\n",
        "\n",
        "def get_elu(x, alpha):\n",
        "  return alpha(math.e(x) - 1) if x <= 0 else x"
      ],
      "metadata": {
        "id": "z-sytQVHKQ78"
      },
      "execution_count": 12,
      "outputs": []
    },
    {
      "cell_type": "code",
      "source": [
        "def is_number(n):\n",
        "  try:\n",
        "    float(n)\n",
        "  except ValueError:\n",
        "    return False\n",
        "  return True\n",
        "\n",
        "x = input('Enter a number: ')\n",
        "if not is_number(x):\n",
        "  print(f'{x} must be a number')\n",
        "else:\n",
        "  x = float(x)\n",
        "  function = input('Enter a function (sigmoid, relu, elu): ')\n",
        "  while function not in ['sigmoid', 'relu', 'elu']:\n",
        "    print(f'{function} is not supported')\n",
        "    function = input('Enter a function (sigmoid, relu, elu):')\n",
        "\n",
        "  if function == 'sigmoid':\n",
        "    print('sigmoid:', get_sigmoid(x))\n",
        "  elif function == 'relu':\n",
        "    print('relu:', get_relu(x))\n",
        "  elif function == 'elu':\n",
        "    alpha = float(input('Enter alpha: '))\n",
        "    print('elu', get_elu(x, alpha))"
      ],
      "metadata": {
        "colab": {
          "base_uri": "https://localhost:8080/"
        },
        "id": "QoAg_ASBNbxF",
        "outputId": "6ed36fa1-5edc-4a1b-8fda-ef6a883d4843"
      },
      "execution_count": 15,
      "outputs": [
        {
          "output_type": "stream",
          "name": "stdout",
          "text": [
            "Enter a number: 12\n",
            "Enter a function (sigmoid, relu, elu): elu\n",
            "Enter alpha: 0.1\n",
            "elu 12.0\n"
          ]
        }
      ]
    },
    {
      "cell_type": "code",
      "source": [
        "import random\n",
        "import math\n",
        "\n",
        "def mae(targets, predictions):\n",
        "    return sum(abs(t - p) for t, p in zip(targets, predictions)) / len(targets)\n",
        "\n",
        "def mse(targets, predictions):\n",
        "    return sum((t - p) ** 2 for t, p in zip(targets, predictions)) / len(targets)\n",
        "\n",
        "def rmse(targets, predictions):\n",
        "    return math.sqrt(mse(targets, predictions))\n",
        "\n",
        "def get_loss_function(loss_name):\n",
        "    if loss_name == 'MAE':\n",
        "        return mae\n",
        "    elif loss_name == 'MSE':\n",
        "        return mse\n",
        "    elif loss_name == 'RMSE':\n",
        "        return rmse\n",
        "    else:\n",
        "        raise ValueError(\"Invalid loss name. Choose from 'MAE', 'MSE', or 'RMSE'.\")\n",
        "\n",
        "def exercise3():\n",
        "    num_samples = input(\"Input number of samples (integer number) which are generated: \")\n",
        "    if not num_samples.isnumeric():\n",
        "        print(\"number of samples must be an integer number\")\n",
        "        return\n",
        "    num_samples = int(num_samples)\n",
        "\n",
        "    loss_name = input(\"Input loss name (MAE, MSE, RMSE): \").strip()\n",
        "    try:\n",
        "        loss_fn = get_loss_function(loss_name)\n",
        "    except ValueError as e:\n",
        "        print(e)\n",
        "        return\n",
        "\n",
        "    predictions = [random.uniform(0, 10) for _ in range(num_samples)]\n",
        "    targets = [random.uniform(0, 10) for _ in range(num_samples)]\n",
        "\n",
        "    losses = [abs(t - p) if loss_name == 'MAE' else (t - p) ** 2 for t, p in zip(targets, predictions)]\n",
        "    if loss_name == 'RMSE':\n",
        "        final_loss = math.sqrt(sum(losses) / len(losses))\n",
        "    else:\n",
        "        final_loss = sum(losses) / len(losses)\n",
        "\n",
        "    for i, (pred, target, loss) in enumerate(zip(predictions, targets, losses)):\n",
        "        print(f\"loss name: {loss_name}, sample: {i}, pred: {pred}, target: {target}, loss: {loss}\")\n",
        "\n",
        "    print(f\"final {loss_name}: {final_loss}\")\n",
        "\n",
        "# Run the function\n",
        "exercise3()"
      ],
      "metadata": {
        "colab": {
          "base_uri": "https://localhost:8080/"
        },
        "id": "VZHnrN2oUUBg",
        "outputId": "b2999c92-39ea-4e14-cc29-07a2b333eafb"
      },
      "execution_count": 20,
      "outputs": [
        {
          "output_type": "stream",
          "name": "stdout",
          "text": [
            "Input number of samples (integer number) which are generated: 3\n",
            "Input loss name (MAE, MSE, RMSE): MAE\n",
            "loss name: MAE, sample: 0, pred: 2.2110661163037912, target: 3.986053447824683, loss: 1.774987331520892\n",
            "loss name: MAE, sample: 1, pred: 1.4620800953897162, target: 9.184697333106728, loss: 7.722617237717012\n",
            "loss name: MAE, sample: 2, pred: 6.235565334229387, target: 1.9235435907299492, loss: 4.312021743499438\n",
            "final MAE: 4.603208770912447\n"
          ]
        }
      ]
    },
    {
      "cell_type": "code",
      "source": [
        "def factorial(n):\n",
        "    \"\"\"Calculate the factorial of a non-negative integer n.\"\"\"\n",
        "    if n == 0:\n",
        "        return 1\n",
        "    result = 1\n",
        "    for i in range(2, n+1):\n",
        "        result *= i\n",
        "    return result\n",
        "\n",
        "def approx_sin(x, n):\n",
        "    \"\"\"Approximate sin(x) using the Taylor series expansion up to n terms.\"\"\"\n",
        "    result = 0\n",
        "    for i in range(n):\n",
        "        term = ((-1) ** i) * (x ** (2 * i + 1)) / factorial(2 * i + 1)\n",
        "        result += term\n",
        "    return result\n",
        "\n",
        "def approx_cos(x, n):\n",
        "    \"\"\"Approximate cos(x) using the Taylor series expansion up to n terms.\"\"\"\n",
        "    result = 0\n",
        "    for i in range(n):\n",
        "        term = ((-1) ** i) * (x ** (2 * i)) / factorial(2 * i)\n",
        "        result += term\n",
        "    return result\n",
        "\n",
        "def approx_sinh(x, n):\n",
        "    \"\"\"Approximate sinh(x) using the Taylor series expansion up to n terms.\"\"\"\n",
        "    result = 0\n",
        "    for i in range(n):\n",
        "        term = (x ** (2 * i + 1)) / factorial(2 * i + 1)\n",
        "        result += term\n",
        "    return result\n",
        "\n",
        "def approx_cosh(x, n):\n",
        "    \"\"\"Approximate cosh(x) using the Taylor series expansion up to n terms.\"\"\"\n",
        "    result = 0\n",
        "    for i in range(n):\n",
        "        term = (x ** (2 * i)) / factorial(2 * i)\n",
        "        result += term\n",
        "    return result\n",
        "\n",
        "# Examples of usage:\n",
        "print(approx_sin(3.14, 10))  # Approximates sin(3.14) using 10 terms\n",
        "print(approx_cos(3.14, 10))  # Approximates cos(3.14) using 10 terms\n",
        "print(approx_sinh(3.14, 10))  # Approximates sinh(3.14) using 10 terms\n",
        "print(approx_cosh(3.14, 10))  # Approximates cosh(3.14) using 10 terms"
      ],
      "metadata": {
        "colab": {
          "base_uri": "https://localhost:8080/"
        },
        "id": "FO-hNfmxVgK9",
        "outputId": "2520231f-0bd3-49ca-ac82-293501d5422c"
      },
      "execution_count": 21,
      "outputs": [
        {
          "output_type": "stream",
          "name": "stdout",
          "text": [
            "0.001592652393160744\n",
            "-0.9999987352210833\n",
            "11.530292029865986\n",
            "11.573574824666185\n"
          ]
        }
      ]
    },
    {
      "cell_type": "code",
      "source": [
        "import numpy as np\n",
        "\n",
        "def MD_nRE(y_true, y_pred, n, p):\n",
        "    # Convert inputs to numpy arrays\n",
        "    y_true = np.array(y_true)\n",
        "    y_pred = np.array(y_pred)\n",
        "\n",
        "    # Calculate the nth roots of true and predicted values\n",
        "    root_y_true = np.power(y_true, 1/n)\n",
        "    root_y_pred = np.power(y_pred, 1/n)\n",
        "\n",
        "    # Calculate the differences of nth roots and raise them to the power of p\n",
        "    differences = np.abs(root_y_true - root_y_pred) ** p\n",
        "\n",
        "    # Calculate the mean of these differences\n",
        "    md_nre = np.mean(differences)\n",
        "\n",
        "    return md_nre\n",
        "\n",
        "# Example usage:\n",
        "y_true = [1, 2, 3, 4, 5]\n",
        "y_pred = [1.1, 1.9, 3.2, 4.1, 4.8]\n",
        "n = 2\n",
        "p = 1\n",
        "\n",
        "result = MD_nRE(y_true, y_pred, n, p)\n",
        "print(f\"MD_nRE: {result}\")"
      ],
      "metadata": {
        "colab": {
          "base_uri": "https://localhost:8080/"
        },
        "id": "tfwJ5e36V8zH",
        "outputId": "14ab9808-51c0-4b7c-9180-4ee51bf7bae2"
      },
      "execution_count": 22,
      "outputs": [
        {
          "output_type": "stream",
          "name": "stdout",
          "text": [
            "MD_nRE: 0.042288906075192624\n"
          ]
        }
      ]
    }
  ]
}